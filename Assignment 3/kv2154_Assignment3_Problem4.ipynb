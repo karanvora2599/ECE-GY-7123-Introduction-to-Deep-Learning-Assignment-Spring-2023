{
 "cells": [
  {
   "cell_type": "markdown",
   "metadata": {
    "id": "0iiiiTC0XNF7"
   },
   "source": [
    "# Analyzing movie reviews using transformers\n",
    "\n",
    "This problem asks you to train a sentiment analysis model using the BERT (Bidirectional Encoder Representations from Transformers) model, introduced [here](https://arxiv.org/abs/1810.04805). Specifically, we will parse movie reviews and classify their sentiment (according to whether they are positive or negative.)\n",
    "\n",
    "We will use the [Huggingface transformers library](https://github.com/huggingface/transformers) to load a pre-trained BERT model to compute text embeddings, and append this with an RNN model to perform sentiment classification."
   ]
  },
  {
   "cell_type": "markdown",
   "metadata": {
    "id": "7agOLdvIXNF8"
   },
   "source": [
    "## Data preparation\n",
    "\n",
    "Before delving into the model training, let's first do some basic data processing. The first challenge in NLP is to encode text into vector-style representations. This is done by a process called *tokenization*. "
   ]
  },
  {
   "cell_type": "code",
   "execution_count": 2,
   "metadata": {
    "executionInfo": {
     "elapsed": 1516,
     "status": "ok",
     "timestamp": 1679368882499,
     "user": {
      "displayName": "Karan Vora",
      "userId": "11658456875350794783"
     },
     "user_tz": 240
    },
    "id": "b0tRhbLFXNF8"
   },
   "outputs": [],
   "source": [
    "import torch\n",
    "import random\n",
    "import numpy as np\n",
    "\n",
    "SEED = 1234\n",
    "\n",
    "random.seed(SEED)\n",
    "np.random.seed(SEED)\n",
    "torch.manual_seed(SEED)\n",
    "torch.backends.cudnn.deterministic = True"
   ]
  },
  {
   "cell_type": "markdown",
   "metadata": {
    "id": "d-c9-tAEXNF9"
   },
   "source": [
    "Let us load the transformers library first."
   ]
  },
  {
   "cell_type": "code",
   "execution_count": 3,
   "metadata": {
    "colab": {
     "base_uri": "https://localhost:8080/"
    },
    "executionInfo": {
     "elapsed": 11502,
     "status": "ok",
     "timestamp": 1679368893998,
     "user": {
      "displayName": "Karan Vora",
      "userId": "11658456875350794783"
     },
     "user_tz": 240
    },
    "id": "iwd4yeyAXg2W",
    "outputId": "7fb91e7a-0aed-42d4-91f7-b72f2c3fc7e0"
   },
   "outputs": [
    {
     "name": "stdout",
     "output_type": "stream",
     "text": [
      "Looking in indexes: https://pypi.org/simple, https://us-python.pkg.dev/colab-wheels/public/simple/\n",
      "Collecting transformers\n",
      "  Downloading transformers-4.27.2-py3-none-any.whl (6.8 MB)\n",
      "\u001b[2K     \u001b[90m━━━━━━━━━━━━━━━━━━━━━━━━━━━━━━━━━━━━━━━━\u001b[0m \u001b[32m6.8/6.8 MB\u001b[0m \u001b[31m47.8 MB/s\u001b[0m eta \u001b[36m0:00:00\u001b[0m\n",
      "\u001b[?25hRequirement already satisfied: filelock in /usr/local/lib/python3.9/dist-packages (from transformers) (3.10.0)\n",
      "Requirement already satisfied: pyyaml>=5.1 in /usr/local/lib/python3.9/dist-packages (from transformers) (5.1)\n",
      "Requirement already satisfied: packaging>=20.0 in /usr/local/lib/python3.9/dist-packages (from transformers) (23.0)\n",
      "Requirement already satisfied: regex!=2019.12.17 in /usr/local/lib/python3.9/dist-packages (from transformers) (2022.10.31)\n",
      "Collecting tokenizers!=0.11.3,<0.14,>=0.11.1\n",
      "  Downloading tokenizers-0.13.2-cp39-cp39-manylinux_2_17_x86_64.manylinux2014_x86_64.whl (7.6 MB)\n",
      "\u001b[2K     \u001b[90m━━━━━━━━━━━━━━━━━━━━━━━━━━━━━━━━━━━━━━━━\u001b[0m \u001b[32m7.6/7.6 MB\u001b[0m \u001b[31m37.3 MB/s\u001b[0m eta \u001b[36m0:00:00\u001b[0m\n",
      "\u001b[?25hRequirement already satisfied: requests in /usr/local/lib/python3.9/dist-packages (from transformers) (2.27.1)\n",
      "Collecting huggingface-hub<1.0,>=0.11.0\n",
      "  Downloading huggingface_hub-0.13.3-py3-none-any.whl (199 kB)\n",
      "\u001b[2K     \u001b[90m━━━━━━━━━━━━━━━━━━━━━━━━━━━━━━━━━━━━━━\u001b[0m \u001b[32m199.8/199.8 KB\u001b[0m \u001b[31m21.0 MB/s\u001b[0m eta \u001b[36m0:00:00\u001b[0m\n",
      "\u001b[?25hRequirement already satisfied: numpy>=1.17 in /usr/local/lib/python3.9/dist-packages (from transformers) (1.22.4)\n",
      "Requirement already satisfied: tqdm>=4.27 in /usr/local/lib/python3.9/dist-packages (from transformers) (4.65.0)\n",
      "Requirement already satisfied: typing-extensions>=3.7.4.3 in /usr/local/lib/python3.9/dist-packages (from huggingface-hub<1.0,>=0.11.0->transformers) (4.5.0)\n",
      "Requirement already satisfied: idna<4,>=2.5 in /usr/local/lib/python3.9/dist-packages (from requests->transformers) (3.4)\n",
      "Requirement already satisfied: urllib3<1.27,>=1.21.1 in /usr/local/lib/python3.9/dist-packages (from requests->transformers) (1.26.15)\n",
      "Requirement already satisfied: charset-normalizer~=2.0.0 in /usr/local/lib/python3.9/dist-packages (from requests->transformers) (2.0.12)\n",
      "Requirement already satisfied: certifi>=2017.4.17 in /usr/local/lib/python3.9/dist-packages (from requests->transformers) (2022.12.7)\n",
      "Installing collected packages: tokenizers, huggingface-hub, transformers\n",
      "Successfully installed huggingface-hub-0.13.3 tokenizers-0.13.2 transformers-4.27.2\n"
     ]
    }
   ],
   "source": [
    "!pip3 install transformers"
   ]
  },
  {
   "cell_type": "markdown",
   "metadata": {
    "id": "7WXwGDzg-V9K"
   },
   "source": [
    "Each transformer model is associated with a particular approach of tokenizing the input text.  We will use the `bert-base-uncased` model below, so let's examine its corresponding tokenizer.\n",
    "\n"
   ]
  },
  {
   "cell_type": "code",
   "execution_count": 4,
   "metadata": {
    "colab": {
     "base_uri": "https://localhost:8080/",
     "height": 113,
     "referenced_widgets": [
      "c07e4b55ebf24ebcad21fc04275cde48",
      "9089115798ff487c929d50aaf3732347",
      "f89fd689882a4d78a2d6b7082547c79e",
      "86fc5e71d78f45d3a60465c6481bf33b",
      "6caecc73aed94a9eb8f1b58c46b170e0",
      "6dc6c91e290c4c838632dad0fc39b89b",
      "0643c77354304bd9a9b4b436b1c66ae5",
      "1f30efb0d75a470d922ea7579dcaf51d",
      "269df904862c462c8d64a36960180946",
      "61988a9c983d4e64a0891bac58290752",
      "16df43d0c8104b76b863e4da7a768863",
      "ff427d242b1e4ff89843e71034d8d37e",
      "f96b1e1d293344b5851f8eaa1085a048",
      "c8f397fc292c47508021ed5a2e7aeba0",
      "1863b36b5cf44d22828298658808eb53",
      "2a231bb6f3984352a737629b7c1c54e0",
      "2a29a45d62a14d7193bfe065aca6668d",
      "cf334337cb73455e8c735d929869e295",
      "8219d52af8d048fa9a22320b6eeba504",
      "bdb1c8cdd51b4f0aab44d967c23526f9",
      "5edd165f35e445d6adc964c365b19b27",
      "7a13e0b8bcca47ed9ecda6c8eb3975d6",
      "0f410f91d8a84270b3be7fd58b174f1f",
      "a858a99d9bc64e7bab82724edf8daddb",
      "a9c5cca1a5d54c65bc673f0b948f5981",
      "01edade6d6594c1b8e3d5211d3dce1d5",
      "ec76ece7e9b04e029a22285a0d8fe1b5",
      "7090cb74494f48a7b61c20a097b4a4f4",
      "e861237d5c0047b98304f8ee85ce121d",
      "17fe4367a07d44c0bfde47cb4e6d107e",
      "39c1cda351f247ee89d76ec2c3c18a3e",
      "fb4900385eba46e0b3214ea82fa6c1e3",
      "353aed616bab45df9d4b6d2b178805be"
     ]
    },
    "executionInfo": {
     "elapsed": 1241,
     "status": "ok",
     "timestamp": 1679368895224,
     "user": {
      "displayName": "Karan Vora",
      "userId": "11658456875350794783"
     },
     "user_tz": 240
    },
    "id": "CzpSwDm2XNF9",
    "outputId": "30aa0bc9-8f84-4a5d-e5e5-fe4c1e90421a"
   },
   "outputs": [
    {
     "data": {
      "application/vnd.jupyter.widget-view+json": {
       "model_id": "c07e4b55ebf24ebcad21fc04275cde48",
       "version_major": 2,
       "version_minor": 0
      },
      "text/plain": [
       "Downloading (…)solve/main/vocab.txt:   0%|          | 0.00/232k [00:00<?, ?B/s]"
      ]
     },
     "metadata": {},
     "output_type": "display_data"
    },
    {
     "data": {
      "application/vnd.jupyter.widget-view+json": {
       "model_id": "ff427d242b1e4ff89843e71034d8d37e",
       "version_major": 2,
       "version_minor": 0
      },
      "text/plain": [
       "Downloading (…)okenizer_config.json:   0%|          | 0.00/28.0 [00:00<?, ?B/s]"
      ]
     },
     "metadata": {},
     "output_type": "display_data"
    },
    {
     "data": {
      "application/vnd.jupyter.widget-view+json": {
       "model_id": "0f410f91d8a84270b3be7fd58b174f1f",
       "version_major": 2,
       "version_minor": 0
      },
      "text/plain": [
       "Downloading (…)lve/main/config.json:   0%|          | 0.00/570 [00:00<?, ?B/s]"
      ]
     },
     "metadata": {},
     "output_type": "display_data"
    }
   ],
   "source": [
    "from transformers import BertTokenizer\n",
    "\n",
    "tokenizer = BertTokenizer.from_pretrained('bert-base-uncased')"
   ]
  },
  {
   "cell_type": "markdown",
   "metadata": {
    "id": "UoMwhigMXNF9"
   },
   "source": [
    "The `tokenizer` has a `vocab` attribute which contains the actual vocabulary we will be using. First, let us discover how many tokens are in this language model by checking its length."
   ]
  },
  {
   "cell_type": "code",
   "execution_count": 5,
   "metadata": {
    "colab": {
     "base_uri": "https://localhost:8080/"
    },
    "executionInfo": {
     "elapsed": 12,
     "status": "ok",
     "timestamp": 1679368895224,
     "user": {
      "displayName": "Karan Vora",
      "userId": "11658456875350794783"
     },
     "user_tz": 240
    },
    "id": "D6iwFKmgXNF-",
    "outputId": "2780e550-a7f3-4817-be85-03e271a81f03"
   },
   "outputs": [
    {
     "name": "stdout",
     "output_type": "stream",
     "text": [
      "Tokenizer Vocab Size: 30522\n"
     ]
    }
   ],
   "source": [
    "# Q1a: Print the size of the vocabulary of the above tokenizer.\n",
    "print(\"Tokenizer Vocab Size: {}\".format(len(tokenizer.vocab)))"
   ]
  },
  {
   "cell_type": "markdown",
   "metadata": {
    "id": "cpjHi3GEXNF_"
   },
   "source": [
    "Using the tokenizer is as simple as calling `tokenizer.tokenize` on a string. This will tokenize and lower case the data in a way that is consistent with the pre-trained transformer model."
   ]
  },
  {
   "cell_type": "code",
   "execution_count": 6,
   "metadata": {
    "colab": {
     "base_uri": "https://localhost:8080/"
    },
    "executionInfo": {
     "elapsed": 11,
     "status": "ok",
     "timestamp": 1679368895225,
     "user": {
      "displayName": "Karan Vora",
      "userId": "11658456875350794783"
     },
     "user_tz": 240
    },
    "id": "jSfW82kYXNF_",
    "outputId": "034d02ae-81e0-4c10-e747-2a192bce9645"
   },
   "outputs": [
    {
     "name": "stdout",
     "output_type": "stream",
     "text": [
      "['hello', 'world', 'how', 'are', 'you', '?']\n"
     ]
    }
   ],
   "source": [
    "tokens = tokenizer.tokenize('Hello WORLD how ARE yoU?')\n",
    "\n",
    "print(tokens)"
   ]
  },
  {
   "cell_type": "markdown",
   "metadata": {
    "id": "wS1LH_izXNGA"
   },
   "source": [
    "We can numericalize tokens using our vocabulary using `tokenizer.convert_tokens_to_ids`."
   ]
  },
  {
   "cell_type": "code",
   "execution_count": 7,
   "metadata": {
    "colab": {
     "base_uri": "https://localhost:8080/"
    },
    "executionInfo": {
     "elapsed": 9,
     "status": "ok",
     "timestamp": 1679368895225,
     "user": {
      "displayName": "Karan Vora",
      "userId": "11658456875350794783"
     },
     "user_tz": 240
    },
    "id": "ujCny94UXNGA",
    "outputId": "ecfa7a25-2bfa-4140-f284-f7bb64b303b6"
   },
   "outputs": [
    {
     "name": "stdout",
     "output_type": "stream",
     "text": [
      "[7592, 2088, 2129, 2024, 2017, 1029]\n"
     ]
    }
   ],
   "source": [
    "indexes = tokenizer.convert_tokens_to_ids(tokens)\n",
    "\n",
    "print(indexes)"
   ]
  },
  {
   "cell_type": "markdown",
   "metadata": {
    "id": "qlqKy-QDXNGB"
   },
   "source": [
    "The transformer was also trained with special tokens to mark the beginning and end of the sentence, as well as a standard padding and unknown token. \n",
    "\n",
    "Let us declare them."
   ]
  },
  {
   "cell_type": "code",
   "execution_count": 8,
   "metadata": {
    "colab": {
     "base_uri": "https://localhost:8080/"
    },
    "executionInfo": {
     "elapsed": 7,
     "status": "ok",
     "timestamp": 1679368895225,
     "user": {
      "displayName": "Karan Vora",
      "userId": "11658456875350794783"
     },
     "user_tz": 240
    },
    "id": "BnP1nxOSXNGB",
    "outputId": "70ed0950-350c-44f1-dc62-d1992828b036"
   },
   "outputs": [
    {
     "name": "stdout",
     "output_type": "stream",
     "text": [
      "[CLS] [SEP] [PAD] [UNK]\n"
     ]
    }
   ],
   "source": [
    "init_token = tokenizer.cls_token\n",
    "eos_token = tokenizer.sep_token\n",
    "pad_token = tokenizer.pad_token\n",
    "unk_token = tokenizer.unk_token\n",
    "\n",
    "print(init_token, eos_token, pad_token, unk_token)"
   ]
  },
  {
   "cell_type": "markdown",
   "metadata": {
    "id": "dFwa5Zb2XNGB"
   },
   "source": [
    "We can call a function to find the indices of the special tokens."
   ]
  },
  {
   "cell_type": "code",
   "execution_count": 9,
   "metadata": {
    "colab": {
     "base_uri": "https://localhost:8080/"
    },
    "executionInfo": {
     "elapsed": 6,
     "status": "ok",
     "timestamp": 1679368895225,
     "user": {
      "displayName": "Karan Vora",
      "userId": "11658456875350794783"
     },
     "user_tz": 240
    },
    "id": "p_9UTs7NXNGC",
    "outputId": "20f51751-666e-4d41-d474-0ff3875eef5e"
   },
   "outputs": [
    {
     "name": "stdout",
     "output_type": "stream",
     "text": [
      "101 102 0 100\n"
     ]
    }
   ],
   "source": [
    "init_token_idx = tokenizer.convert_tokens_to_ids(init_token)\n",
    "eos_token_idx = tokenizer.convert_tokens_to_ids(eos_token)\n",
    "pad_token_idx = tokenizer.convert_tokens_to_ids(pad_token)\n",
    "unk_token_idx = tokenizer.convert_tokens_to_ids(unk_token)\n",
    "\n",
    "print(init_token_idx, eos_token_idx, pad_token_idx, unk_token_idx)"
   ]
  },
  {
   "cell_type": "markdown",
   "metadata": {
    "id": "-EBbWe8kXNGC"
   },
   "source": [
    "We can also find the maximum length of these input sizes by checking the `max_model_input_sizes` attribute (for this model, it is 512 tokens)."
   ]
  },
  {
   "cell_type": "code",
   "execution_count": 10,
   "metadata": {
    "executionInfo": {
     "elapsed": 5,
     "status": "ok",
     "timestamp": 1679368895226,
     "user": {
      "displayName": "Karan Vora",
      "userId": "11658456875350794783"
     },
     "user_tz": 240
    },
    "id": "fm7tV-B5XNGD"
   },
   "outputs": [],
   "source": [
    "max_input_length = tokenizer.max_model_input_sizes['bert-base-uncased']"
   ]
  },
  {
   "cell_type": "markdown",
   "metadata": {
    "id": "xtXjE8NxXNGD"
   },
   "source": [
    "Let us now define a function to tokenize any sentence, and cut length down to 510 tokens (we need one special `start` and `end` token for each sentence)."
   ]
  },
  {
   "cell_type": "code",
   "execution_count": 11,
   "metadata": {
    "executionInfo": {
     "elapsed": 200,
     "status": "ok",
     "timestamp": 1679368895421,
     "user": {
      "displayName": "Karan Vora",
      "userId": "11658456875350794783"
     },
     "user_tz": 240
    },
    "id": "3kyu0BmUXNGD"
   },
   "outputs": [],
   "source": [
    "def tokenize_and_cut(sentence):\n",
    "    tokens = tokenizer.tokenize(sentence) \n",
    "    tokens = tokens[:max_input_length-2]\n",
    "    return tokens"
   ]
  },
  {
   "cell_type": "markdown",
   "metadata": {
    "id": "JZGN3-pQXNGD"
   },
   "source": [
    "Finally, we are ready to load our dataset. We will use the [IMDB Moview Reviews](https://huggingface.co/datasets/imdb) dataset. Let us also split the train dataset to form a small validation set (to keep track of the best model)."
   ]
  },
  {
   "cell_type": "code",
   "execution_count": 12,
   "metadata": {
    "executionInfo": {
     "elapsed": 6,
     "status": "ok",
     "timestamp": 1679368895422,
     "user": {
      "displayName": "Karan Vora",
      "userId": "11658456875350794783"
     },
     "user_tz": 240
    },
    "id": "EVjRbyDe0HyK"
   },
   "outputs": [],
   "source": [
    "# !pip install torchtext\n",
    "# !pip install torch==1.8.0\n",
    "# !pip install pytorch-lightning==1.8.3.post0\n",
    "# !pip install torch==1.8.0+cu111 torchvision==0.9.0+cu111 torchaudio==0.8.0 -f https://download.pytorch.org/whl/torch_stable.html\n",
    "\n",
    "# !pip install torchtext\n",
    "# !pip3 install torch==1.8.0\n",
    "\n",
    "# !pip install pyyaml==5.1\n",
    "# !pip install torch==1.8.1 torchvision==0.9.1 torchtext==0.9.1 -f https://download.pytorch.org/whl/cu101/torch_stable.html\n",
    "# !pip install -U 'git+https://github.com/cocodataset/cocoapi.git#subdirectory=PythonAPI'"
   ]
  },
  {
   "cell_type": "code",
   "execution_count": 13,
   "metadata": {
    "executionInfo": {
     "elapsed": 5,
     "status": "ok",
     "timestamp": 1679368895422,
     "user": {
      "displayName": "Karan Vora",
      "userId": "11658456875350794783"
     },
     "user_tz": 240
    },
    "id": "qCO5bDpLXNGD"
   },
   "outputs": [],
   "source": [
    "from torchtext.legacy import data\n",
    "# from torchtext import data, datasets\n",
    "# from torchtext.vocab import Vocab\n",
    "\n",
    "TEXT = data.Field(batch_first = True,\n",
    "                  use_vocab = False,\n",
    "                  tokenize = tokenize_and_cut,\n",
    "                  preprocessing = tokenizer.convert_tokens_to_ids,\n",
    "                  init_token = init_token_idx,\n",
    "                  eos_token = eos_token_idx,\n",
    "                  pad_token = pad_token_idx,\n",
    "                  unk_token = unk_token_idx)\n",
    "\n",
    "LABEL = data.LabelField(dtype = torch.float)"
   ]
  },
  {
   "cell_type": "code",
   "execution_count": 14,
   "metadata": {
    "colab": {
     "base_uri": "https://localhost:8080/"
    },
    "executionInfo": {
     "elapsed": 324942,
     "status": "ok",
     "timestamp": 1679369220359,
     "user": {
      "displayName": "Karan Vora",
      "userId": "11658456875350794783"
     },
     "user_tz": 240
    },
    "id": "uVA1xdigXNGD",
    "outputId": "15de518a-9440-44af-fef7-9bf7de7ebf09"
   },
   "outputs": [
    {
     "name": "stdout",
     "output_type": "stream",
     "text": [
      "downloading aclImdb_v1.tar.gz\n"
     ]
    },
    {
     "name": "stderr",
     "output_type": "stream",
     "text": [
      "aclImdb_v1.tar.gz: 100%|██████████| 84.1M/84.1M [00:02<00:00, 34.0MB/s]\n"
     ]
    }
   ],
   "source": [
    "from torchtext.legacy import datasets\n",
    "\n",
    "train_data, test_data = datasets.IMDB.splits(TEXT, LABEL)\n",
    "\n",
    "train_data, valid_data = train_data.split(random_state = random.seed(SEED))"
   ]
  },
  {
   "cell_type": "markdown",
   "metadata": {
    "id": "WRTREe6iDoHm"
   },
   "source": [
    "Let us examine the size of the train, validation, and test dataset."
   ]
  },
  {
   "cell_type": "code",
   "execution_count": 15,
   "metadata": {
    "colab": {
     "base_uri": "https://localhost:8080/"
    },
    "executionInfo": {
     "elapsed": 26,
     "status": "ok",
     "timestamp": 1679369220360,
     "user": {
      "displayName": "Karan Vora",
      "userId": "11658456875350794783"
     },
     "user_tz": 240
    },
    "id": "6_Zp4SJ-XNGE",
    "outputId": "59cc49ad-53e5-43fe-e915-5568d8d0b2f8"
   },
   "outputs": [
    {
     "name": "stdout",
     "output_type": "stream",
     "text": [
      "Number of data points in the train set: 17500\n",
      "Number of data points in the validation set: 7500\n",
      "Number of data points in the test set: 25000\n"
     ]
    }
   ],
   "source": [
    "# Q1b. Print the number of data points in the train, test, and validation sets.\n",
    "print(\"Number of data points in the train set: {}\".format(len(train_data)))\n",
    "print(\"Number of data points in the validation set: {}\".format(len(valid_data)))\n",
    "print(\"Number of data points in the test set: {}\".format(len(test_data)))"
   ]
  },
  {
   "cell_type": "markdown",
   "metadata": {
    "id": "YjPGXMxAXNGE"
   },
   "source": [
    "We will build a vocabulary for the labels using the `vocab.stoi` mapping."
   ]
  },
  {
   "cell_type": "code",
   "execution_count": 16,
   "metadata": {
    "executionInfo": {
     "elapsed": 23,
     "status": "ok",
     "timestamp": 1679369220360,
     "user": {
      "displayName": "Karan Vora",
      "userId": "11658456875350794783"
     },
     "user_tz": 240
    },
    "id": "7DgA2i4MXNGE"
   },
   "outputs": [],
   "source": [
    "LABEL.build_vocab(train_data)"
   ]
  },
  {
   "cell_type": "code",
   "execution_count": 17,
   "metadata": {
    "colab": {
     "base_uri": "https://localhost:8080/"
    },
    "executionInfo": {
     "elapsed": 22,
     "status": "ok",
     "timestamp": 1679369220360,
     "user": {
      "displayName": "Karan Vora",
      "userId": "11658456875350794783"
     },
     "user_tz": 240
    },
    "id": "7Zig9n_HXNGE",
    "outputId": "443f6a63-c506-48e7-f810-b370db0a8ab1"
   },
   "outputs": [
    {
     "name": "stdout",
     "output_type": "stream",
     "text": [
      "defaultdict(None, {'neg': 0, 'pos': 1})\n"
     ]
    }
   ],
   "source": [
    "print(LABEL.vocab.stoi)"
   ]
  },
  {
   "cell_type": "markdown",
   "metadata": {
    "id": "_W6FOpOGXNGE"
   },
   "source": [
    "Finally, we will set up the data-loader using a (large) batch size of 128. For text processing, we use the `BucketIterator` class."
   ]
  },
  {
   "cell_type": "code",
   "execution_count": 18,
   "metadata": {
    "executionInfo": {
     "elapsed": 104,
     "status": "ok",
     "timestamp": 1679369220847,
     "user": {
      "displayName": "Karan Vora",
      "userId": "11658456875350794783"
     },
     "user_tz": 240
    },
    "id": "ZuYOlNbgXNGE"
   },
   "outputs": [],
   "source": [
    "BATCH_SIZE = 128\n",
    "\n",
    "device = torch.device('cuda' if torch.cuda.is_available() else 'cpu')\n",
    "\n",
    "train_iterator, valid_iterator, test_iterator = data.BucketIterator.splits(\n",
    "    (train_data, valid_data, test_data), \n",
    "    batch_size = BATCH_SIZE, \n",
    "    device = device)"
   ]
  },
  {
   "cell_type": "markdown",
   "metadata": {
    "id": "XFoLyjCFXNGE"
   },
   "source": [
    "## Model preparation\n",
    "\n",
    "We will now load our pretrained BERT model. (Keep in mind that we should use the same model as the tokenizer that we chose above)."
   ]
  },
  {
   "cell_type": "code",
   "execution_count": 19,
   "metadata": {
    "colab": {
     "base_uri": "https://localhost:8080/",
     "height": 124,
     "referenced_widgets": [
      "794e69d136ec4a088ff421bc13b77ab7",
      "16c1de44bce34ac19edf4b1fba2a1bb6",
      "89686b5e21dc49649915e660cd9ea70e",
      "b1f3bdc2f93f481e974a773020d5f844",
      "24fb24313ce84f8eb7ec626e295ed111",
      "ada08617e26147cbae8d942155281bc6",
      "34bab117c5094ca3989013d16077a5ed",
      "f75e9a6c52a744b4b6abfa2e56c9f7e0",
      "6db48d122c3e47b2a70311871872818b",
      "3f56c2f9f3264b0bb8b556632b7823cb",
      "db26343ede824432a98f332bd023cec3"
     ]
    },
    "executionInfo": {
     "elapsed": 5764,
     "status": "ok",
     "timestamp": 1679369226609,
     "user": {
      "displayName": "Karan Vora",
      "userId": "11658456875350794783"
     },
     "user_tz": 240
    },
    "id": "C13zMlxKXNGF",
    "outputId": "eaf4cdee-d874-4ec6-8e90-a4e6630b6e16"
   },
   "outputs": [
    {
     "data": {
      "application/vnd.jupyter.widget-view+json": {
       "model_id": "794e69d136ec4a088ff421bc13b77ab7",
       "version_major": 2,
       "version_minor": 0
      },
      "text/plain": [
       "Downloading pytorch_model.bin:   0%|          | 0.00/440M [00:00<?, ?B/s]"
      ]
     },
     "metadata": {},
     "output_type": "display_data"
    },
    {
     "name": "stderr",
     "output_type": "stream",
     "text": [
      "Some weights of the model checkpoint at bert-base-uncased were not used when initializing BertModel: ['cls.predictions.transform.LayerNorm.bias', 'cls.predictions.bias', 'cls.predictions.transform.LayerNorm.weight', 'cls.seq_relationship.bias', 'cls.predictions.transform.dense.bias', 'cls.predictions.transform.dense.weight', 'cls.predictions.decoder.weight', 'cls.seq_relationship.weight']\n",
      "- This IS expected if you are initializing BertModel from the checkpoint of a model trained on another task or with another architecture (e.g. initializing a BertForSequenceClassification model from a BertForPreTraining model).\n",
      "- This IS NOT expected if you are initializing BertModel from the checkpoint of a model that you expect to be exactly identical (initializing a BertForSequenceClassification model from a BertForSequenceClassification model).\n"
     ]
    }
   ],
   "source": [
    "from transformers import BertTokenizer, BertModel\n",
    "\n",
    "bert = BertModel.from_pretrained('bert-base-uncased')"
   ]
  },
  {
   "cell_type": "markdown",
   "metadata": {
    "id": "NIopY5PfELkZ"
   },
   "source": [
    "As mentioned above, we will append the BERT model with a bidirectional GRU to perform the classification."
   ]
  },
  {
   "cell_type": "code",
   "execution_count": 20,
   "metadata": {
    "executionInfo": {
     "elapsed": 8,
     "status": "ok",
     "timestamp": 1679369226610,
     "user": {
      "displayName": "Karan Vora",
      "userId": "11658456875350794783"
     },
     "user_tz": 240
    },
    "id": "jCKKvxdCXNGF"
   },
   "outputs": [],
   "source": [
    "import torch.nn as nn\n",
    "\n",
    "class BERTGRUSentiment(nn.Module):\n",
    "    def __init__(self,bert,hidden_dim,output_dim,n_layers,bidirectional,dropout):\n",
    "        \n",
    "        super().__init__()\n",
    "        \n",
    "        self.bert = bert\n",
    "        \n",
    "        embedding_dim = bert.config.to_dict()['hidden_size']\n",
    "        \n",
    "        self.rnn = nn.GRU(embedding_dim,\n",
    "                          hidden_dim,\n",
    "                          num_layers = n_layers,\n",
    "                          bidirectional = bidirectional,\n",
    "                          batch_first = True,\n",
    "                          dropout = 0 if n_layers < 2 else dropout)\n",
    "        \n",
    "        self.out = nn.Linear(hidden_dim * 2 if bidirectional else hidden_dim, output_dim)\n",
    "        \n",
    "        self.dropout = nn.Dropout(dropout)\n",
    "        \n",
    "    def forward(self, text):\n",
    "        \n",
    "        #text = [batch size, sent len]\n",
    "                \n",
    "        with torch.no_grad():\n",
    "            embedded = self.bert(text)[0]\n",
    "                \n",
    "        #embedded = [batch size, sent len, emb dim]\n",
    "        \n",
    "        _, hidden = self.rnn(embedded)\n",
    "        \n",
    "        #hidden = [n layers * n directions, batch size, emb dim]\n",
    "        \n",
    "        if self.rnn.bidirectional:\n",
    "            hidden = self.dropout(torch.cat((hidden[-2,:,:], hidden[-1,:,:]), dim = 1))\n",
    "        else:\n",
    "            hidden = self.dropout(hidden[-1,:,:])\n",
    "                \n",
    "        #hidden = [batch size, hid dim]\n",
    "        \n",
    "        output = self.out(hidden)\n",
    "        \n",
    "        #output = [batch size, out dim]\n",
    "        \n",
    "        return output"
   ]
  },
  {
   "cell_type": "markdown",
   "metadata": {
    "id": "bLNOMDvWXNGF"
   },
   "source": [
    "Next, we'll define our actual model. \n",
    "\n",
    "Our model will consist of \n",
    "\n",
    "* the BERT embedding (whose weights are frozen)\n",
    "* a bidirectional GRU with 2 layers, with hidden dim 256 and dropout=0.25.\n",
    "* a linear layer on top which does binary sentiment classification."
   ]
  },
  {
   "cell_type": "markdown",
   "metadata": {
    "id": "OSUKiU-bXNGF"
   },
   "source": [
    "Let us create an instance of this model."
   ]
  },
  {
   "cell_type": "code",
   "execution_count": 21,
   "metadata": {
    "executionInfo": {
     "elapsed": 7,
     "status": "ok",
     "timestamp": 1679369226610,
     "user": {
      "displayName": "Karan Vora",
      "userId": "11658456875350794783"
     },
     "user_tz": 240
    },
    "id": "zIt8nNZeXNGF"
   },
   "outputs": [],
   "source": [
    "# Q2a: Instantiate the above model by setting the right hyperparameters.\n",
    "\n",
    "# insert code here\n",
    "\n",
    "HIDDEN_DIM = 256\n",
    "OUTPUT_DIM = 1\n",
    "N_LAYERS = 2\n",
    "BIDIRECTIONAL = True\n",
    "DROPOUT = 0.25\n",
    "\n",
    "model = BERTGRUSentiment(bert,\n",
    "                         HIDDEN_DIM,\n",
    "                         OUTPUT_DIM,\n",
    "                         N_LAYERS,\n",
    "                         BIDIRECTIONAL,\n",
    "                         DROPOUT)"
   ]
  },
  {
   "cell_type": "markdown",
   "metadata": {
    "id": "I0EZFcVoXNGF"
   },
   "source": [
    "We can check how many parameters the model has.\n",
    "\n",
    "> Indented block\n",
    "\n"
   ]
  },
  {
   "cell_type": "code",
   "execution_count": 22,
   "metadata": {
    "colab": {
     "base_uri": "https://localhost:8080/"
    },
    "executionInfo": {
     "elapsed": 6,
     "status": "ok",
     "timestamp": 1679369226610,
     "user": {
      "displayName": "Karan Vora",
      "userId": "11658456875350794783"
     },
     "user_tz": 240
    },
    "id": "ypGbLI8JXNGF",
    "outputId": "79740efb-5781-4150-a48c-2d7a8b32a65d"
   },
   "outputs": [
    {
     "name": "stdout",
     "output_type": "stream",
     "text": [
      "The model has 112,241,409 trainable parameters.\n"
     ]
    }
   ],
   "source": [
    "# Q2b: Print the number of trainable parameters in this model.\n",
    "\n",
    "# insert code here.\n",
    "\n",
    "def count_parameters(model):\n",
    "    return sum(p.numel() for p in model.parameters() if p.requires_grad)\n",
    "\n",
    "print(f\"The model has {count_parameters(model):,} trainable parameters.\")"
   ]
  },
  {
   "cell_type": "markdown",
   "metadata": {
    "id": "8jn_34hiXNGF"
   },
   "source": [
    "Oh no~ if you did this correctly, youy should see that this contains *112 million* parameters. Standard machines (or Colab) cannot handle such large models.\n",
    "\n",
    "However, the majority of these parameters are from the BERT embedding, which we are not going to (re)train. In order to freeze certain parameters we can set their `requires_grad` attribute to `False`. To do this, we simply loop through all of the `named_parameters` in our model and if they're a part of the `bert` transformer model, we set `requires_grad = False`. "
   ]
  },
  {
   "cell_type": "code",
   "execution_count": 23,
   "metadata": {
    "executionInfo": {
     "elapsed": 173,
     "status": "ok",
     "timestamp": 1679369226780,
     "user": {
      "displayName": "Karan Vora",
      "userId": "11658456875350794783"
     },
     "user_tz": 240
    },
    "id": "DgMLxKHxXNGF"
   },
   "outputs": [],
   "source": [
    "for name, param in model.named_parameters():                \n",
    "    if name.startswith('bert'):\n",
    "        param.requires_grad = False"
   ]
  },
  {
   "cell_type": "code",
   "execution_count": 24,
   "metadata": {
    "colab": {
     "base_uri": "https://localhost:8080/"
    },
    "executionInfo": {
     "elapsed": 8,
     "status": "ok",
     "timestamp": 1679369226780,
     "user": {
      "displayName": "Karan Vora",
      "userId": "11658456875350794783"
     },
     "user_tz": 240
    },
    "id": "POzRK-TBXNGF",
    "outputId": "908ac969-8ded-4ec1-cdba-0b64fae524cf"
   },
   "outputs": [
    {
     "name": "stdout",
     "output_type": "stream",
     "text": [
      "The model has 2,759,169 trainable parameters after freezing the BERT weights.\n"
     ]
    }
   ],
   "source": [
    "# Q2c: After freezing the BERT weights/biases, print the number of remaining trainable parameters.\n",
    "\n",
    "for name, param in model.named_parameters():                \n",
    "    if name.startswith('bert'):\n",
    "        param.requires_grad = False\n",
    "\n",
    "print(f\"The model has {count_parameters(model):,} trainable parameters after freezing the BERT weights.\")"
   ]
  },
  {
   "cell_type": "markdown",
   "metadata": {
    "id": "__27RDchXNGF"
   },
   "source": [
    "We should now see that our model has under 3M trainable parameters. Still not trivial but manageable."
   ]
  },
  {
   "cell_type": "markdown",
   "metadata": {
    "id": "oi7nx_A-XNGF"
   },
   "source": [
    "## Train the Model\n",
    "\n",
    "All this is now largely standard.\n",
    "\n",
    "We will use:\n",
    "* the Binary Cross Entropy loss function: `nn.BCEWithLogitsLoss()`\n",
    "* the Adam optimizer\n",
    "\n",
    "and run it for 2 epochs (that should be enough to start getting meaningful results)."
   ]
  },
  {
   "cell_type": "code",
   "execution_count": 25,
   "metadata": {
    "executionInfo": {
     "elapsed": 5,
     "status": "ok",
     "timestamp": 1679369226781,
     "user": {
      "displayName": "Karan Vora",
      "userId": "11658456875350794783"
     },
     "user_tz": 240
    },
    "id": "0l6NYI4aXNGG"
   },
   "outputs": [],
   "source": [
    "import torch.optim as optim\n",
    "\n",
    "optimizer = optim.Adam(model.parameters())"
   ]
  },
  {
   "cell_type": "code",
   "execution_count": 26,
   "metadata": {
    "executionInfo": {
     "elapsed": 4,
     "status": "ok",
     "timestamp": 1679369226781,
     "user": {
      "displayName": "Karan Vora",
      "userId": "11658456875350794783"
     },
     "user_tz": 240
    },
    "id": "fezxMblzXNGG"
   },
   "outputs": [],
   "source": [
    "criterion = nn.BCEWithLogitsLoss()"
   ]
  },
  {
   "cell_type": "code",
   "execution_count": 27,
   "metadata": {
    "executionInfo": {
     "elapsed": 4380,
     "status": "ok",
     "timestamp": 1679369231157,
     "user": {
      "displayName": "Karan Vora",
      "userId": "11658456875350794783"
     },
     "user_tz": 240
    },
    "id": "JjmPNe0SXNGG"
   },
   "outputs": [],
   "source": [
    "model = model.to(device)\n",
    "criterion = criterion.to(device)"
   ]
  },
  {
   "cell_type": "markdown",
   "metadata": {
    "id": "yjHDXoJDXNGG"
   },
   "source": [
    "\n",
    "Also, define functions for: \n",
    "* calculating accuracy. \n",
    "* training for a single epoch, and reporting loss/accuracy.\n",
    "* performing an evaluation epoch, and reporting loss/accuracy.\n",
    "* calculating running times."
   ]
  },
  {
   "cell_type": "code",
   "execution_count": 28,
   "metadata": {
    "executionInfo": {
     "elapsed": 15,
     "status": "ok",
     "timestamp": 1679369231158,
     "user": {
      "displayName": "Karan Vora",
      "userId": "11658456875350794783"
     },
     "user_tz": 240
    },
    "id": "Z5UrsZyTXNGG"
   },
   "outputs": [],
   "source": [
    "# def binary_accuracy(preds, y):\n",
    "    \n",
    "#     # Q3a. Compute accuracy (as a number between 0 and 1)\n",
    "\n",
    "#     # ...\n",
    "\n",
    "#     return acc\n",
    "\n",
    "def binary_accuracy(preds, y):\n",
    "    \"\"\"\n",
    "    Returns accuracy per batch\n",
    "    \"\"\"\n",
    "    # round predictions to the closest integer (0 or 1)\n",
    "    rounded_preds = torch.round(torch.sigmoid(preds))\n",
    "    # check if prediction matches ground truth label\n",
    "    correct = (rounded_preds == y).float()\n",
    "    # calculate accuracy by taking average over correct predictions\n",
    "    acc = correct.sum() / len(correct)\n",
    "    return acc"
   ]
  },
  {
   "cell_type": "code",
   "execution_count": 29,
   "metadata": {
    "executionInfo": {
     "elapsed": 15,
     "status": "ok",
     "timestamp": 1679369231159,
     "user": {
      "displayName": "Karan Vora",
      "userId": "11658456875350794783"
     },
     "user_tz": 240
    },
    "id": "8p-Xs97uXNGG"
   },
   "outputs": [],
   "source": [
    "# def train(model, iterator, optimizer, criterion):\n",
    "    \n",
    "#     # Q3b. Set up the training function\n",
    "\n",
    "#     # ...\n",
    "        \n",
    "#     return epoch_loss / len(iterator), epoch_acc / len(iterator)\n",
    "\n",
    "def train(model, iterator, optimizer, criterion):\n",
    "    \"\"\"\n",
    "    Trains the model for a single epoch\n",
    "    \"\"\"\n",
    "    epoch_loss = 0\n",
    "    epoch_acc = 0\n",
    "    # set model to train mode\n",
    "    model.train()\n",
    "    for batch in iterator:\n",
    "        # get the text and label data\n",
    "        text, labels = batch.text.to(device), batch.label.to(device)\n",
    "        # zero the gradients\n",
    "        optimizer.zero_grad()\n",
    "        # make predictions\n",
    "        predictions = model(text).squeeze(1)\n",
    "        # calculate loss and accuracy\n",
    "        loss = criterion(predictions, labels.float())\n",
    "        acc = binary_accuracy(predictions, labels)\n",
    "        # backpropagate the loss and update the parameters\n",
    "        loss.backward()\n",
    "        optimizer.step()\n",
    "        # update epoch loss and accuracy\n",
    "        epoch_loss += loss.item()\n",
    "        epoch_acc += acc.item()\n",
    "    # calculate epoch loss and accuracy\n",
    "    epoch_loss /= len(iterator)\n",
    "    epoch_acc /= len(iterator)\n",
    "    return epoch_loss, epoch_acc"
   ]
  },
  {
   "cell_type": "code",
   "execution_count": 30,
   "metadata": {
    "executionInfo": {
     "elapsed": 15,
     "status": "ok",
     "timestamp": 1679369231159,
     "user": {
      "displayName": "Karan Vora",
      "userId": "11658456875350794783"
     },
     "user_tz": 240
    },
    "id": "8cu4vLfpXNGG"
   },
   "outputs": [],
   "source": [
    "# def evaluate(model, iterator, criterion):\n",
    "    \n",
    "#     # Q3c. Set up the evaluation function. \n",
    "\n",
    "#     # ...\n",
    "        \n",
    "#     return epoch_loss / len(iterator), epoch_acc / len(iterator)\n",
    "\n",
    "def evaluate(model, iterator, criterion):\n",
    "    \"\"\"\n",
    "    Evaluates the model on a dataset\n",
    "    \"\"\"\n",
    "    epoch_loss = 0\n",
    "    epoch_acc = 0\n",
    "    # set model to evaluation mode\n",
    "    model.eval()\n",
    "    with torch.no_grad():\n",
    "        for batch in iterator:\n",
    "            # get the text and label data\n",
    "            text, labels = batch.text.to(device), batch.label.to(device)\n",
    "            # make predictions\n",
    "            predictions = model(text).squeeze(1)\n",
    "            # calculate loss and accuracy\n",
    "            loss = criterion(predictions, labels.float())\n",
    "            acc = binary_accuracy(predictions, labels)\n",
    "            # update epoch loss and accuracy\n",
    "            epoch_loss += loss.item()\n",
    "            epoch_acc += acc.item()\n",
    "    # calculate epoch loss and accuracy\n",
    "    epoch_loss /= len(iterator)\n",
    "    epoch_acc /= len(iterator)\n",
    "    return epoch_loss, epoch_acc"
   ]
  },
  {
   "cell_type": "code",
   "execution_count": 31,
   "metadata": {
    "executionInfo": {
     "elapsed": 15,
     "status": "ok",
     "timestamp": 1679369231159,
     "user": {
      "displayName": "Karan Vora",
      "userId": "11658456875350794783"
     },
     "user_tz": 240
    },
    "id": "UFn-f7fNXNGG"
   },
   "outputs": [],
   "source": [
    "import time\n",
    "\n",
    "def epoch_time(start_time, end_time):\n",
    "    elapsed_time = end_time - start_time\n",
    "    elapsed_mins = int(elapsed_time / 60)\n",
    "    elapsed_secs = int(elapsed_time - (elapsed_mins * 60))\n",
    "    return elapsed_mins, elapsed_secs"
   ]
  },
  {
   "cell_type": "markdown",
   "metadata": {
    "id": "sXCsaJPBXNGG"
   },
   "source": [
    "We are now ready to train our model.\n",
    "\n",
    "**Statutory warning**: Training such models will take a very long time since this model is considerably larger than anything we have trained before. Even though we are not training any of the BERT parameters, we still have to make a forward pass. This will take time; each epoch may take upwards of 30 minutes on Colab.\n",
    "\n",
    "Let us train for 2 epochs and print train loss/accuracy and validation loss/accuracy for each epoch. Let us also measure running time. \n",
    "\n",
    "Saving intermediate model checkpoints using  \n",
    "\n",
    "`torch.save(model.state_dict(),'model.pt')`\n",
    "\n",
    "may be helpful with such large models."
   ]
  },
  {
   "cell_type": "code",
   "execution_count": 32,
   "metadata": {
    "colab": {
     "base_uri": "https://localhost:8080/"
    },
    "executionInfo": {
     "elapsed": 1890162,
     "status": "ok",
     "timestamp": 1679371121307,
     "user": {
      "displayName": "Karan Vora",
      "userId": "11658456875350794783"
     },
     "user_tz": 240
    },
    "id": "sFbTyZzNXNGG",
    "outputId": "2ea892a2-c28e-4dde-af0e-f481b32c43d9"
   },
   "outputs": [
    {
     "name": "stdout",
     "output_type": "stream",
     "text": [
      "Epoch: 01 | Epoch Time: 15m 43s\n",
      "\tTrain Loss: 0.444 | Train Acc: 77.92%\n",
      "\t Val. Loss: 0.326 |  Val. Acc: 86.97%\n",
      "Epoch: 02 | Epoch Time: 15m 44s\n",
      "\tTrain Loss: 0.266 | Train Acc: 89.10%\n",
      "\t Val. Loss: 0.231 |  Val. Acc: 90.69%\n"
     ]
    }
   ],
   "source": [
    "# N_EPOCHS = 2\n",
    "\n",
    "# best_valid_loss = float('inf')\n",
    "\n",
    "# for epoch in range(N_EPOCHS):\n",
    "    \n",
    "#     # Q3d. Perform training/valudation by using the functions you defined earlier.\n",
    "\n",
    "#     start_time = # ...\n",
    "    \n",
    "#     train_loss, train_acc = # ...\n",
    "#     valid_loss, valid_acc = # ...\n",
    "        \n",
    "#     end_time = # ...\n",
    "        \n",
    "#     epoch_mins, epoch_secs = # ...\n",
    "\n",
    "#     if valid_loss < best_valid_loss:\n",
    "#         best_valid_loss = valid_loss\n",
    "#         torch.save(model.state_dict(), 'model.pt')\n",
    "    \n",
    "#     print(f'Epoch: {epoch+1:02} | Epoch Time: {epoch_mins}m {epoch_secs}s')\n",
    "#     print(f'\\tTrain Loss: {train_loss:.3f} | Train Acc: {train_acc*100:.2f}%')\n",
    "#     print(f'\\t Val. Loss: {valid_loss:.3f} |  Val. Acc: {valid_acc*100:.2f}%')\n",
    "\n",
    "N_EPOCHS = 2\n",
    "best_valid_loss = float('inf')\n",
    "\n",
    "for epoch in range(N_EPOCHS):\n",
    "    start_time = time.time()\n",
    "     \n",
    "    train_loss, train_acc = train(model, train_iterator, optimizer, criterion)\n",
    "    valid_loss, valid_acc = evaluate(model, valid_iterator, criterion)\n",
    "        \n",
    "    end_time = time.time()\n",
    "        \n",
    "    epoch_mins, epoch_secs = epoch_time(start_time, end_time)\n",
    "\n",
    "    if valid_loss < best_valid_loss:\n",
    "        best_valid_loss = valid_loss\n",
    "        torch.save(model.state_dict(), 'model.pt')\n",
    "    \n",
    "    print(f'Epoch: {epoch+1:02} | Epoch Time: {epoch_mins}m {epoch_secs}s')\n",
    "    print(f'\\tTrain Loss: {train_loss:.3f} | Train Acc: {train_acc*100:.2f}%')\n",
    "    print(f'\\t Val. Loss: {valid_loss:.3f} |  Val. Acc: {valid_acc*100:.2f}%')"
   ]
  },
  {
   "cell_type": "markdown",
   "metadata": {
    "id": "PAPlc8NrXNGG"
   },
   "source": [
    "Load the best model parameters (measured in terms of validation loss) and evaluate the loss/accuracy on the test set."
   ]
  },
  {
   "cell_type": "code",
   "execution_count": 33,
   "metadata": {
    "colab": {
     "base_uri": "https://localhost:8080/"
    },
    "executionInfo": {
     "elapsed": 512236,
     "status": "ok",
     "timestamp": 1679371633530,
     "user": {
      "displayName": "Karan Vora",
      "userId": "11658456875350794783"
     },
     "user_tz": 240
    },
    "id": "lsSEKrTBXNGG",
    "outputId": "6b68885b-3d73-47c7-9bbc-c30b9c1ceaed"
   },
   "outputs": [
    {
     "name": "stdout",
     "output_type": "stream",
     "text": [
      "Test Loss: 0.216 | Test Acc: 91.28%\n"
     ]
    }
   ],
   "source": [
    "model.load_state_dict(torch.load('model.pt'))\n",
    "\n",
    "test_loss, test_acc = evaluate(model, test_iterator, criterion)\n",
    "\n",
    "print(f'Test Loss: {test_loss:.3f} | Test Acc: {test_acc*100:.2f}%')"
   ]
  },
  {
   "cell_type": "markdown",
   "metadata": {
    "id": "tm5o8PRhXNGG"
   },
   "source": [
    "## Inference\n",
    "\n",
    "We'll then use the model to test the sentiment of some fake movie reviews. We tokenize the input sentence, trim it down to length=510, add the special start and end tokens to either side, convert it to a `LongTensor`, add a fake batch dimension using `unsqueeze`, and perform inference using our model."
   ]
  },
  {
   "cell_type": "code",
   "execution_count": 34,
   "metadata": {
    "executionInfo": {
     "elapsed": 28,
     "status": "ok",
     "timestamp": 1679371633531,
     "user": {
      "displayName": "Karan Vora",
      "userId": "11658456875350794783"
     },
     "user_tz": 240
    },
    "id": "_tHwJmTVXNGG"
   },
   "outputs": [],
   "source": [
    "def predict_sentiment(model, tokenizer, sentence):\n",
    "    model.eval()\n",
    "    tokens = tokenizer.tokenize(sentence)\n",
    "    tokens = tokens[:max_input_length-2]\n",
    "    indexed = [init_token_idx] + tokenizer.convert_tokens_to_ids(tokens) + [eos_token_idx]\n",
    "    tensor = torch.LongTensor(indexed).to(device)\n",
    "    tensor = tensor.unsqueeze(0)\n",
    "    prediction = torch.sigmoid(model(tensor))\n",
    "    return prediction.item()"
   ]
  },
  {
   "cell_type": "code",
   "execution_count": 35,
   "metadata": {
    "colab": {
     "base_uri": "https://localhost:8080/"
    },
    "executionInfo": {
     "elapsed": 27,
     "status": "ok",
     "timestamp": 1679371633531,
     "user": {
      "displayName": "Karan Vora",
      "userId": "11658456875350794783"
     },
     "user_tz": 240
    },
    "id": "isBi_cZ-XNGG",
    "outputId": "1f257634-cd9b-496d-e674-f8f880e18f8f"
   },
   "outputs": [
    {
     "data": {
      "text/plain": [
       "0.03755345568060875"
      ]
     },
     "execution_count": 35,
     "metadata": {},
     "output_type": "execute_result"
    }
   ],
   "source": [
    "# Q4a. Perform sentiment analysis on the following two sentences.\n",
    "\n",
    "predict_sentiment(model, tokenizer, \"Justice League is terrible. I hated it.\")"
   ]
  },
  {
   "cell_type": "code",
   "execution_count": 36,
   "metadata": {
    "colab": {
     "base_uri": "https://localhost:8080/"
    },
    "executionInfo": {
     "elapsed": 25,
     "status": "ok",
     "timestamp": 1679371633531,
     "user": {
      "displayName": "Karan Vora",
      "userId": "11658456875350794783"
     },
     "user_tz": 240
    },
    "id": "JzjdRND0XNGG",
    "outputId": "1b1feac0-5957-432e-a473-36a33a91547c"
   },
   "outputs": [
    {
     "data": {
      "text/plain": [
       "0.9247964024543762"
      ]
     },
     "execution_count": 36,
     "metadata": {},
     "output_type": "execute_result"
    }
   ],
   "source": [
    "predict_sentiment(model, tokenizer, \"Avengers was great!!\")"
   ]
  },
  {
   "cell_type": "markdown",
   "metadata": {
    "id": "kzkrFYjwCXfM"
   },
   "source": [
    "Great! Try playing around with two other movie reviews (you can grab some off the internet or make up text yourselves), and see whether your sentiment classifier is correctly capturing the mood of the review."
   ]
  },
  {
   "cell_type": "code",
   "execution_count": 37,
   "metadata": {
    "colab": {
     "base_uri": "https://localhost:8080/"
    },
    "executionInfo": {
     "elapsed": 19,
     "status": "ok",
     "timestamp": 1679371633531,
     "user": {
      "displayName": "Karan Vora",
      "userId": "11658456875350794783"
     },
     "user_tz": 240
    },
    "id": "c_lAynXPGLn2",
    "outputId": "d558021c-e14e-4a7d-a4a4-e4b1b0c50a59"
   },
   "outputs": [
    {
     "data": {
      "text/plain": [
       "0.0892874002456665"
      ]
     },
     "execution_count": 37,
     "metadata": {},
     "output_type": "execute_result"
    }
   ],
   "source": [
    "# Q4b. Perform sentiment analysis on two other movie review fragments of your choice.\n",
    "\n",
    "predict_sentiment(model, tokenizer, \"Season 8 of Game of Thrones was a Hot Mess\")"
   ]
  }
 ],
 "metadata": {
  "accelerator": "GPU",
  "colab": {
   "provenance": []
  },
  "gpuClass": "standard",
  "kernelspec": {
   "display_name": "Python 3 (ipykernel)",
   "language": "python",
   "name": "python3"
  },
  "language_info": {
   "codemirror_mode": {
    "name": "ipython",
    "version": 3
   },
   "file_extension": ".py",
   "mimetype": "text/x-python",
   "name": "python",
   "nbconvert_exporter": "python",
   "pygments_lexer": "ipython3",
   "version": "3.10.7"
  }
 },
 "nbformat": 4,
 "nbformat_minor": 1
}
